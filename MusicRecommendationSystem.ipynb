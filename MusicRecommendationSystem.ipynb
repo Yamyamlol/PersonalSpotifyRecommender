{
 "cells": [
  {
   "cell_type": "code",
   "execution_count": 1,
   "metadata": {
    "colab": {
     "base_uri": "https://localhost:8080/"
    },
    "id": "qK9POFvO7-28",
    "outputId": "2fb7307d-a578-49a1-f414-7196daa16d37"
   },
   "outputs": [
    {
     "name": "stdout",
     "output_type": "stream",
     "text": [
      "Requirement already satisfied: spotipy in d:\\anaconda\\lib\\site-packages (2.25.0)\n",
      "Requirement already satisfied: redis>=3.5.3 in d:\\anaconda\\lib\\site-packages (from spotipy) (5.2.1)\n",
      "Requirement already satisfied: requests>=2.25.0 in d:\\anaconda\\lib\\site-packages (from spotipy) (2.31.0)\n",
      "Requirement already satisfied: urllib3>=1.26.0 in d:\\anaconda\\lib\\site-packages (from spotipy) (2.0.7)\n",
      "Requirement already satisfied: charset-normalizer<4,>=2 in d:\\anaconda\\lib\\site-packages (from requests>=2.25.0->spotipy) (2.0.4)\n",
      "Requirement already satisfied: idna<4,>=2.5 in d:\\anaconda\\lib\\site-packages (from requests>=2.25.0->spotipy) (3.4)\n",
      "Requirement already satisfied: certifi>=2017.4.17 in d:\\anaconda\\lib\\site-packages (from requests>=2.25.0->spotipy) (2024.2.2)\n"
     ]
    }
   ],
   "source": [
    "import numpy as np\n",
    "import pandas as pd\n",
    "import matplotlib.pyplot as plt\n",
    "import seaborn as sb\n",
    "\n",
    "from sklearn.metrics.pairwise import cosine_similarity\n",
    "from sklearn.feature_extraction.text import CountVectorizer\n",
    "from sklearn.manifold import TSNE\n",
    "\n",
    "!pip install spotipy\n",
    "import spotipy\n",
    "from spotipy.oauth2 import SpotifyClientCredentials\n",
    "# %env SPOTIFY_CLIENT_ID=6f64c4b782b144be978a4424fc7b3207\n",
    "# %env SPOTIFY_CLIENT_SECRET=1d648e1fc23946f7bbfee77250619e77\n",
    "sp = spotipy.Spotify(auth_manager=SpotifyClientCredentials(\n",
    "    client_id=\"6f64c4b782b144be978a4424fc7b3207\",\n",
    "    client_secret=\"1d648e1fc23946f7bbfee77250619e77\"\n",
    "))\n",
    "import os\n",
    "os.environ['SPOTIPY_CLIENT_ID'] = '6f64c4b782b144be978a4424fc7b3207'\n",
    "os.environ['SPOTIPY_CLIENT_SECRET'] = '1d648e1fc23946f7bbfee77250619e77'\n",
    "os.environ['SPOTIPY_REDIRECT_URI'] = 'http://localhost:8888/callback'\n",
    "\n",
    "sp = spotipy.Spotify(auth_manager=SpotifyClientCredentials())\n",
    "\n",
    "\n",
    "import warnings\n",
    "warnings.filterwarnings('ignore')"
   ]
  },
  {
   "cell_type": "code",
   "execution_count": 2,
   "metadata": {
    "colab": {
     "base_uri": "https://localhost:8080/",
     "height": 417
    },
    "id": "PYvBq0988kAg",
    "outputId": "d7a1c92c-25fe-47cf-9b15-3a299a9203c7"
   },
   "outputs": [
    {
     "data": {
      "text/html": [
       "<div>\n",
       "<style scoped>\n",
       "    .dataframe tbody tr th:only-of-type {\n",
       "        vertical-align: middle;\n",
       "    }\n",
       "\n",
       "    .dataframe tbody tr th {\n",
       "        vertical-align: top;\n",
       "    }\n",
       "\n",
       "    .dataframe thead th {\n",
       "        text-align: right;\n",
       "    }\n",
       "</style>\n",
       "<table border=\"1\" class=\"dataframe\">\n",
       "  <thead>\n",
       "    <tr style=\"text-align: right;\">\n",
       "      <th></th>\n",
       "      <th>id</th>\n",
       "      <th>name</th>\n",
       "      <th>artists</th>\n",
       "      <th>id_artists</th>\n",
       "      <th>genres</th>\n",
       "      <th>release_year</th>\n",
       "      <th>duration_s</th>\n",
       "      <th>popularity</th>\n",
       "      <th>danceability</th>\n",
       "      <th>energy</th>\n",
       "      <th>key</th>\n",
       "      <th>loudness</th>\n",
       "      <th>mode</th>\n",
       "      <th>speechiness</th>\n",
       "      <th>acousticness</th>\n",
       "      <th>instrumentalness</th>\n",
       "      <th>liveness</th>\n",
       "      <th>valence</th>\n",
       "      <th>tempo</th>\n",
       "    </tr>\n",
       "  </thead>\n",
       "  <tbody>\n",
       "    <tr>\n",
       "      <th>0</th>\n",
       "      <td>35iwgR4jXetI318WEWsa1Q</td>\n",
       "      <td>Carve</td>\n",
       "      <td>Uli</td>\n",
       "      <td>['45tIt06XoI0Iio4LBEVpls']</td>\n",
       "      <td>NaN</td>\n",
       "      <td>1922</td>\n",
       "      <td>126.903</td>\n",
       "      <td>6</td>\n",
       "      <td>0.645</td>\n",
       "      <td>0.4450</td>\n",
       "      <td>0</td>\n",
       "      <td>46.662</td>\n",
       "      <td>1</td>\n",
       "      <td>0.4510</td>\n",
       "      <td>0.674</td>\n",
       "      <td>0.7440</td>\n",
       "      <td>0.151</td>\n",
       "      <td>0.127</td>\n",
       "      <td>104.851</td>\n",
       "    </tr>\n",
       "    <tr>\n",
       "      <th>1</th>\n",
       "      <td>021ht4sdgPcrDgSk7JTbKY</td>\n",
       "      <td>Capítulo 2.16 - Banquero Anarquista</td>\n",
       "      <td>Fernando Pessoa</td>\n",
       "      <td>['14jtPCOoNZwquk5wd9DxrY']</td>\n",
       "      <td>NaN</td>\n",
       "      <td>1922</td>\n",
       "      <td>98.200</td>\n",
       "      <td>0</td>\n",
       "      <td>0.695</td>\n",
       "      <td>0.2630</td>\n",
       "      <td>0</td>\n",
       "      <td>37.864</td>\n",
       "      <td>1</td>\n",
       "      <td>0.9570</td>\n",
       "      <td>0.797</td>\n",
       "      <td>0.0000</td>\n",
       "      <td>0.148</td>\n",
       "      <td>0.655</td>\n",
       "      <td>102.009</td>\n",
       "    </tr>\n",
       "    <tr>\n",
       "      <th>2</th>\n",
       "      <td>07A5yehtSnoedViJAZkNnc</td>\n",
       "      <td>Vivo para Quererte - Remasterizado</td>\n",
       "      <td>Ignacio Corsini</td>\n",
       "      <td>['5LiOoJbxVSAMkBS2fUm3X2']</td>\n",
       "      <td>tango vintage tango</td>\n",
       "      <td>1922</td>\n",
       "      <td>181.640</td>\n",
       "      <td>0</td>\n",
       "      <td>0.434</td>\n",
       "      <td>0.1770</td>\n",
       "      <td>1</td>\n",
       "      <td>38.820</td>\n",
       "      <td>1</td>\n",
       "      <td>0.0512</td>\n",
       "      <td>0.994</td>\n",
       "      <td>0.0218</td>\n",
       "      <td>0.212</td>\n",
       "      <td>0.457</td>\n",
       "      <td>130.418</td>\n",
       "    </tr>\n",
       "    <tr>\n",
       "      <th>3</th>\n",
       "      <td>08FmqUhxtyLTn6pAh6bk45</td>\n",
       "      <td>El Prisionero - Remasterizado</td>\n",
       "      <td>Ignacio Corsini</td>\n",
       "      <td>['5LiOoJbxVSAMkBS2fUm3X2']</td>\n",
       "      <td>tango vintage tango</td>\n",
       "      <td>1922</td>\n",
       "      <td>176.907</td>\n",
       "      <td>0</td>\n",
       "      <td>0.321</td>\n",
       "      <td>0.0946</td>\n",
       "      <td>7</td>\n",
       "      <td>32.039</td>\n",
       "      <td>1</td>\n",
       "      <td>0.0504</td>\n",
       "      <td>0.995</td>\n",
       "      <td>0.9180</td>\n",
       "      <td>0.104</td>\n",
       "      <td>0.397</td>\n",
       "      <td>169.980</td>\n",
       "    </tr>\n",
       "    <tr>\n",
       "      <th>4</th>\n",
       "      <td>08y9GfoqCWfOGsKdwojr5e</td>\n",
       "      <td>Lady of the Evening</td>\n",
       "      <td>Dick Haymes</td>\n",
       "      <td>['3BiJGZsyX9sJchTqcSA7Su']</td>\n",
       "      <td>adult standards big band easy listening lounge...</td>\n",
       "      <td>1922</td>\n",
       "      <td>163.080</td>\n",
       "      <td>0</td>\n",
       "      <td>0.402</td>\n",
       "      <td>0.1580</td>\n",
       "      <td>3</td>\n",
       "      <td>43.100</td>\n",
       "      <td>0</td>\n",
       "      <td>0.0390</td>\n",
       "      <td>0.989</td>\n",
       "      <td>0.1300</td>\n",
       "      <td>0.311</td>\n",
       "      <td>0.196</td>\n",
       "      <td>103.220</td>\n",
       "    </tr>\n",
       "  </tbody>\n",
       "</table>\n",
       "</div>"
      ],
      "text/plain": [
       "                       id                                 name  \\\n",
       "0  35iwgR4jXetI318WEWsa1Q                                Carve   \n",
       "1  021ht4sdgPcrDgSk7JTbKY  Capítulo 2.16 - Banquero Anarquista   \n",
       "2  07A5yehtSnoedViJAZkNnc   Vivo para Quererte - Remasterizado   \n",
       "3  08FmqUhxtyLTn6pAh6bk45        El Prisionero - Remasterizado   \n",
       "4  08y9GfoqCWfOGsKdwojr5e                  Lady of the Evening   \n",
       "\n",
       "           artists                  id_artists  \\\n",
       "0              Uli  ['45tIt06XoI0Iio4LBEVpls']   \n",
       "1  Fernando Pessoa  ['14jtPCOoNZwquk5wd9DxrY']   \n",
       "2  Ignacio Corsini  ['5LiOoJbxVSAMkBS2fUm3X2']   \n",
       "3  Ignacio Corsini  ['5LiOoJbxVSAMkBS2fUm3X2']   \n",
       "4      Dick Haymes  ['3BiJGZsyX9sJchTqcSA7Su']   \n",
       "\n",
       "                                              genres  release_year  \\\n",
       "0                                                NaN          1922   \n",
       "1                                                NaN          1922   \n",
       "2                                tango vintage tango          1922   \n",
       "3                                tango vintage tango          1922   \n",
       "4  adult standards big band easy listening lounge...          1922   \n",
       "\n",
       "   duration_s  popularity  danceability  energy  key  loudness  mode  \\\n",
       "0     126.903           6         0.645  0.4450    0    46.662     1   \n",
       "1      98.200           0         0.695  0.2630    0    37.864     1   \n",
       "2     181.640           0         0.434  0.1770    1    38.820     1   \n",
       "3     176.907           0         0.321  0.0946    7    32.039     1   \n",
       "4     163.080           0         0.402  0.1580    3    43.100     0   \n",
       "\n",
       "   speechiness  acousticness  instrumentalness  liveness  valence    tempo  \n",
       "0       0.4510         0.674            0.7440     0.151    0.127  104.851  \n",
       "1       0.9570         0.797            0.0000     0.148    0.655  102.009  \n",
       "2       0.0512         0.994            0.0218     0.212    0.457  130.418  \n",
       "3       0.0504         0.995            0.9180     0.104    0.397  169.980  \n",
       "4       0.0390         0.989            0.1300     0.311    0.196  103.220  "
      ]
     },
     "execution_count": 2,
     "metadata": {},
     "output_type": "execute_result"
    }
   ],
   "source": [
    "tracks = pd.read_csv('tracks_records.csv')\n",
    "tracks.head()"
   ]
  },
  {
   "cell_type": "code",
   "execution_count": 3,
   "metadata": {
    "colab": {
     "base_uri": "https://localhost:8080/",
     "height": 965
    },
    "id": "A138_ZhdbNhQ",
    "outputId": "a8907a38-7b7d-45a5-f615-56249b027503"
   },
   "outputs": [
    {
     "data": {
      "text/html": [
       "<div>\n",
       "<style scoped>\n",
       "    .dataframe tbody tr th:only-of-type {\n",
       "        vertical-align: middle;\n",
       "    }\n",
       "\n",
       "    .dataframe tbody tr th {\n",
       "        vertical-align: top;\n",
       "    }\n",
       "\n",
       "    .dataframe thead th {\n",
       "        text-align: right;\n",
       "    }\n",
       "</style>\n",
       "<table border=\"1\" class=\"dataframe\">\n",
       "  <thead>\n",
       "    <tr style=\"text-align: right;\">\n",
       "      <th></th>\n",
       "      <th>id</th>\n",
       "      <th>name</th>\n",
       "      <th>artists</th>\n",
       "      <th>id_artists</th>\n",
       "      <th>genres</th>\n",
       "      <th>release_year</th>\n",
       "      <th>duration_s</th>\n",
       "      <th>popularity</th>\n",
       "      <th>danceability</th>\n",
       "      <th>energy</th>\n",
       "      <th>key</th>\n",
       "      <th>loudness</th>\n",
       "      <th>mode</th>\n",
       "      <th>speechiness</th>\n",
       "      <th>acousticness</th>\n",
       "      <th>instrumentalness</th>\n",
       "      <th>liveness</th>\n",
       "      <th>valence</th>\n",
       "      <th>tempo</th>\n",
       "    </tr>\n",
       "  </thead>\n",
       "  <tbody>\n",
       "    <tr>\n",
       "      <th>82248</th>\n",
       "      <td>6eDApnV9Jdb1nYahOlbbUh</td>\n",
       "      <td>One Time</td>\n",
       "      <td>Justin Bieber</td>\n",
       "      <td>['1uNFoZAHBGtllmzznpCI3s']</td>\n",
       "      <td>canadian pop pop postteen pop</td>\n",
       "      <td>2009</td>\n",
       "      <td>215.867</td>\n",
       "      <td>71</td>\n",
       "      <td>0.691</td>\n",
       "      <td>0.853</td>\n",
       "      <td>1</td>\n",
       "      <td>57.472</td>\n",
       "      <td>0</td>\n",
       "      <td>0.0372</td>\n",
       "      <td>0.06310</td>\n",
       "      <td>0.000071</td>\n",
       "      <td>0.082</td>\n",
       "      <td>0.762</td>\n",
       "      <td>145.999</td>\n",
       "    </tr>\n",
       "    <tr>\n",
       "      <th>82299</th>\n",
       "      <td>69ghzc538EQSVon2Gm3wrr</td>\n",
       "      <td>One Less Lonely Girl</td>\n",
       "      <td>Justin Bieber</td>\n",
       "      <td>['1uNFoZAHBGtllmzznpCI3s']</td>\n",
       "      <td>canadian pop pop postteen pop</td>\n",
       "      <td>2009</td>\n",
       "      <td>229.107</td>\n",
       "      <td>69</td>\n",
       "      <td>0.580</td>\n",
       "      <td>0.750</td>\n",
       "      <td>4</td>\n",
       "      <td>55.579</td>\n",
       "      <td>1</td>\n",
       "      <td>0.1940</td>\n",
       "      <td>0.15900</td>\n",
       "      <td>0.000000</td>\n",
       "      <td>0.274</td>\n",
       "      <td>0.728</td>\n",
       "      <td>86.938</td>\n",
       "    </tr>\n",
       "    <tr>\n",
       "      <th>82372</th>\n",
       "      <td>0yIywEquxORnu1dR0WYsdN</td>\n",
       "      <td>Love Me</td>\n",
       "      <td>Justin Bieber</td>\n",
       "      <td>['1uNFoZAHBGtllmzznpCI3s']</td>\n",
       "      <td>canadian pop pop postteen pop</td>\n",
       "      <td>2009</td>\n",
       "      <td>191.573</td>\n",
       "      <td>67</td>\n",
       "      <td>0.729</td>\n",
       "      <td>0.868</td>\n",
       "      <td>3</td>\n",
       "      <td>56.681</td>\n",
       "      <td>1</td>\n",
       "      <td>0.0609</td>\n",
       "      <td>0.00939</td>\n",
       "      <td>0.000000</td>\n",
       "      <td>0.283</td>\n",
       "      <td>0.632</td>\n",
       "      <td>124.957</td>\n",
       "    </tr>\n",
       "    <tr>\n",
       "      <th>83046</th>\n",
       "      <td>4nTjkWK590oBDcnIxTr1mI</td>\n",
       "      <td>Favorite Girl</td>\n",
       "      <td>Justin Bieber</td>\n",
       "      <td>['1uNFoZAHBGtllmzznpCI3s']</td>\n",
       "      <td>canadian pop pop postteen pop</td>\n",
       "      <td>2009</td>\n",
       "      <td>256.800</td>\n",
       "      <td>58</td>\n",
       "      <td>0.581</td>\n",
       "      <td>0.681</td>\n",
       "      <td>7</td>\n",
       "      <td>55.531</td>\n",
       "      <td>1</td>\n",
       "      <td>0.0435</td>\n",
       "      <td>0.04720</td>\n",
       "      <td>0.000000</td>\n",
       "      <td>0.104</td>\n",
       "      <td>0.634</td>\n",
       "      <td>176.034</td>\n",
       "    </tr>\n",
       "    <tr>\n",
       "      <th>83249</th>\n",
       "      <td>0aPZbnkMoWJaJ5CNVLCj8S</td>\n",
       "      <td>That Should Be Me</td>\n",
       "      <td>Justin Bieber</td>\n",
       "      <td>['1uNFoZAHBGtllmzznpCI3s']</td>\n",
       "      <td>canadian pop pop postteen pop</td>\n",
       "      <td>2010</td>\n",
       "      <td>232.720</td>\n",
       "      <td>70</td>\n",
       "      <td>0.552</td>\n",
       "      <td>0.603</td>\n",
       "      <td>8</td>\n",
       "      <td>54.290</td>\n",
       "      <td>1</td>\n",
       "      <td>0.0334</td>\n",
       "      <td>0.19900</td>\n",
       "      <td>0.000000</td>\n",
       "      <td>0.151</td>\n",
       "      <td>0.231</td>\n",
       "      <td>139.908</td>\n",
       "    </tr>\n",
       "    <tr>\n",
       "      <th>...</th>\n",
       "      <td>...</td>\n",
       "      <td>...</td>\n",
       "      <td>...</td>\n",
       "      <td>...</td>\n",
       "      <td>...</td>\n",
       "      <td>...</td>\n",
       "      <td>...</td>\n",
       "      <td>...</td>\n",
       "      <td>...</td>\n",
       "      <td>...</td>\n",
       "      <td>...</td>\n",
       "      <td>...</td>\n",
       "      <td>...</td>\n",
       "      <td>...</td>\n",
       "      <td>...</td>\n",
       "      <td>...</td>\n",
       "      <td>...</td>\n",
       "      <td>...</td>\n",
       "      <td>...</td>\n",
       "    </tr>\n",
       "    <tr>\n",
       "      <th>583293</th>\n",
       "      <td>0x7b1iQcJchYV55o1rUrs4</td>\n",
       "      <td>Love Me</td>\n",
       "      <td>Justin Bieber</td>\n",
       "      <td>['1uNFoZAHBGtllmzznpCI3s']</td>\n",
       "      <td>canadian pop pop postteen pop</td>\n",
       "      <td>2010</td>\n",
       "      <td>191.573</td>\n",
       "      <td>49</td>\n",
       "      <td>0.712</td>\n",
       "      <td>0.868</td>\n",
       "      <td>5</td>\n",
       "      <td>56.681</td>\n",
       "      <td>0</td>\n",
       "      <td>0.0656</td>\n",
       "      <td>0.00939</td>\n",
       "      <td>0.000000</td>\n",
       "      <td>0.283</td>\n",
       "      <td>0.652</td>\n",
       "      <td>125.028</td>\n",
       "    </tr>\n",
       "    <tr>\n",
       "      <th>583312</th>\n",
       "      <td>4pYlyrBINcwbsBAemZ44CF</td>\n",
       "      <td>One Less Lonely Girl</td>\n",
       "      <td>Justin Bieber</td>\n",
       "      <td>['1uNFoZAHBGtllmzznpCI3s']</td>\n",
       "      <td>canadian pop pop postteen pop</td>\n",
       "      <td>2010</td>\n",
       "      <td>229.107</td>\n",
       "      <td>47</td>\n",
       "      <td>0.555</td>\n",
       "      <td>0.750</td>\n",
       "      <td>4</td>\n",
       "      <td>55.576</td>\n",
       "      <td>1</td>\n",
       "      <td>0.2040</td>\n",
       "      <td>0.15900</td>\n",
       "      <td>0.000000</td>\n",
       "      <td>0.274</td>\n",
       "      <td>0.726</td>\n",
       "      <td>86.840</td>\n",
       "    </tr>\n",
       "    <tr>\n",
       "      <th>583320</th>\n",
       "      <td>6LtrSXoBzbTF3SxcJb1Fnm</td>\n",
       "      <td>Somebody To Love</td>\n",
       "      <td>Justin Bieber</td>\n",
       "      <td>['1uNFoZAHBGtllmzznpCI3s']</td>\n",
       "      <td>canadian pop pop postteen pop</td>\n",
       "      <td>2010</td>\n",
       "      <td>220.920</td>\n",
       "      <td>49</td>\n",
       "      <td>0.719</td>\n",
       "      <td>0.840</td>\n",
       "      <td>5</td>\n",
       "      <td>54.765</td>\n",
       "      <td>1</td>\n",
       "      <td>0.0257</td>\n",
       "      <td>0.00241</td>\n",
       "      <td>0.000000</td>\n",
       "      <td>0.228</td>\n",
       "      <td>0.636</td>\n",
       "      <td>129.974</td>\n",
       "    </tr>\n",
       "    <tr>\n",
       "      <th>583333</th>\n",
       "      <td>1sZjOcNqpo7T6hDf1qFACC</td>\n",
       "      <td>That Should Be Me</td>\n",
       "      <td>Justin Bieber</td>\n",
       "      <td>['1uNFoZAHBGtllmzznpCI3s']</td>\n",
       "      <td>canadian pop pop postteen pop</td>\n",
       "      <td>2010</td>\n",
       "      <td>232.733</td>\n",
       "      <td>46</td>\n",
       "      <td>0.542</td>\n",
       "      <td>0.607</td>\n",
       "      <td>8</td>\n",
       "      <td>54.263</td>\n",
       "      <td>1</td>\n",
       "      <td>0.0336</td>\n",
       "      <td>0.21000</td>\n",
       "      <td>0.000000</td>\n",
       "      <td>0.169</td>\n",
       "      <td>0.226</td>\n",
       "      <td>139.954</td>\n",
       "    </tr>\n",
       "    <tr>\n",
       "      <th>583341</th>\n",
       "      <td>0KDJBhhe2OYnnoJtbtXy1f</td>\n",
       "      <td>U Smile</td>\n",
       "      <td>Justin Bieber</td>\n",
       "      <td>['1uNFoZAHBGtllmzznpCI3s']</td>\n",
       "      <td>canadian pop pop postteen pop</td>\n",
       "      <td>2010</td>\n",
       "      <td>196.907</td>\n",
       "      <td>45</td>\n",
       "      <td>0.705</td>\n",
       "      <td>0.605</td>\n",
       "      <td>1</td>\n",
       "      <td>54.748</td>\n",
       "      <td>1</td>\n",
       "      <td>0.0300</td>\n",
       "      <td>0.51600</td>\n",
       "      <td>0.000002</td>\n",
       "      <td>0.117</td>\n",
       "      <td>0.419</td>\n",
       "      <td>112.505</td>\n",
       "    </tr>\n",
       "  </tbody>\n",
       "</table>\n",
       "<p>259 rows × 19 columns</p>\n",
       "</div>"
      ],
      "text/plain": [
       "                            id                  name        artists  \\\n",
       "82248   6eDApnV9Jdb1nYahOlbbUh              One Time  Justin Bieber   \n",
       "82299   69ghzc538EQSVon2Gm3wrr  One Less Lonely Girl  Justin Bieber   \n",
       "82372   0yIywEquxORnu1dR0WYsdN               Love Me  Justin Bieber   \n",
       "83046   4nTjkWK590oBDcnIxTr1mI         Favorite Girl  Justin Bieber   \n",
       "83249   0aPZbnkMoWJaJ5CNVLCj8S     That Should Be Me  Justin Bieber   \n",
       "...                        ...                   ...            ...   \n",
       "583293  0x7b1iQcJchYV55o1rUrs4               Love Me  Justin Bieber   \n",
       "583312  4pYlyrBINcwbsBAemZ44CF  One Less Lonely Girl  Justin Bieber   \n",
       "583320  6LtrSXoBzbTF3SxcJb1Fnm      Somebody To Love  Justin Bieber   \n",
       "583333  1sZjOcNqpo7T6hDf1qFACC     That Should Be Me  Justin Bieber   \n",
       "583341  0KDJBhhe2OYnnoJtbtXy1f               U Smile  Justin Bieber   \n",
       "\n",
       "                        id_artists                         genres  \\\n",
       "82248   ['1uNFoZAHBGtllmzznpCI3s']  canadian pop pop postteen pop   \n",
       "82299   ['1uNFoZAHBGtllmzznpCI3s']  canadian pop pop postteen pop   \n",
       "82372   ['1uNFoZAHBGtllmzznpCI3s']  canadian pop pop postteen pop   \n",
       "83046   ['1uNFoZAHBGtllmzznpCI3s']  canadian pop pop postteen pop   \n",
       "83249   ['1uNFoZAHBGtllmzznpCI3s']  canadian pop pop postteen pop   \n",
       "...                            ...                            ...   \n",
       "583293  ['1uNFoZAHBGtllmzznpCI3s']  canadian pop pop postteen pop   \n",
       "583312  ['1uNFoZAHBGtllmzznpCI3s']  canadian pop pop postteen pop   \n",
       "583320  ['1uNFoZAHBGtllmzznpCI3s']  canadian pop pop postteen pop   \n",
       "583333  ['1uNFoZAHBGtllmzznpCI3s']  canadian pop pop postteen pop   \n",
       "583341  ['1uNFoZAHBGtllmzznpCI3s']  canadian pop pop postteen pop   \n",
       "\n",
       "        release_year  duration_s  popularity  danceability  energy  key  \\\n",
       "82248           2009     215.867          71         0.691   0.853    1   \n",
       "82299           2009     229.107          69         0.580   0.750    4   \n",
       "82372           2009     191.573          67         0.729   0.868    3   \n",
       "83046           2009     256.800          58         0.581   0.681    7   \n",
       "83249           2010     232.720          70         0.552   0.603    8   \n",
       "...              ...         ...         ...           ...     ...  ...   \n",
       "583293          2010     191.573          49         0.712   0.868    5   \n",
       "583312          2010     229.107          47         0.555   0.750    4   \n",
       "583320          2010     220.920          49         0.719   0.840    5   \n",
       "583333          2010     232.733          46         0.542   0.607    8   \n",
       "583341          2010     196.907          45         0.705   0.605    1   \n",
       "\n",
       "        loudness  mode  speechiness  acousticness  instrumentalness  liveness  \\\n",
       "82248     57.472     0       0.0372       0.06310          0.000071     0.082   \n",
       "82299     55.579     1       0.1940       0.15900          0.000000     0.274   \n",
       "82372     56.681     1       0.0609       0.00939          0.000000     0.283   \n",
       "83046     55.531     1       0.0435       0.04720          0.000000     0.104   \n",
       "83249     54.290     1       0.0334       0.19900          0.000000     0.151   \n",
       "...          ...   ...          ...           ...               ...       ...   \n",
       "583293    56.681     0       0.0656       0.00939          0.000000     0.283   \n",
       "583312    55.576     1       0.2040       0.15900          0.000000     0.274   \n",
       "583320    54.765     1       0.0257       0.00241          0.000000     0.228   \n",
       "583333    54.263     1       0.0336       0.21000          0.000000     0.169   \n",
       "583341    54.748     1       0.0300       0.51600          0.000002     0.117   \n",
       "\n",
       "        valence    tempo  \n",
       "82248     0.762  145.999  \n",
       "82299     0.728   86.938  \n",
       "82372     0.632  124.957  \n",
       "83046     0.634  176.034  \n",
       "83249     0.231  139.908  \n",
       "...         ...      ...  \n",
       "583293    0.652  125.028  \n",
       "583312    0.726   86.840  \n",
       "583320    0.636  129.974  \n",
       "583333    0.226  139.954  \n",
       "583341    0.419  112.505  \n",
       "\n",
       "[259 rows x 19 columns]"
      ]
     },
     "execution_count": 3,
     "metadata": {},
     "output_type": "execute_result"
    }
   ],
   "source": [
    "tracks[tracks['artists'] == 'Justin Bieber' ]"
   ]
  },
  {
   "cell_type": "code",
   "execution_count": 4,
   "metadata": {
    "colab": {
     "base_uri": "https://localhost:8080/"
    },
    "id": "j0CPDg108wJw",
    "outputId": "29382861-2cf2-4b7f-e714-02222376d06a"
   },
   "outputs": [
    {
     "data": {
      "text/plain": [
       "(586672, 19)"
      ]
     },
     "execution_count": 4,
     "metadata": {},
     "output_type": "execute_result"
    }
   ],
   "source": [
    "tracks.shape"
   ]
  },
  {
   "cell_type": "code",
   "execution_count": 5,
   "metadata": {
    "colab": {
     "base_uri": "https://localhost:8080/"
    },
    "id": "T4VdzZ728yTT",
    "outputId": "2da50198-80a5-4863-8a67-b1a1fe9108d5"
   },
   "outputs": [
    {
     "name": "stdout",
     "output_type": "stream",
     "text": [
      "<class 'pandas.core.frame.DataFrame'>\n",
      "RangeIndex: 586672 entries, 0 to 586671\n",
      "Data columns (total 19 columns):\n",
      " #   Column            Non-Null Count   Dtype  \n",
      "---  ------            --------------   -----  \n",
      " 0   id                586672 non-null  object \n",
      " 1   name              586601 non-null  object \n",
      " 2   artists           586601 non-null  object \n",
      " 3   id_artists        586672 non-null  object \n",
      " 4   genres            536847 non-null  object \n",
      " 5   release_year      586672 non-null  int64  \n",
      " 6   duration_s        586672 non-null  float64\n",
      " 7   popularity        586672 non-null  int64  \n",
      " 8   danceability      586672 non-null  float64\n",
      " 9   energy            586672 non-null  float64\n",
      " 10  key               586672 non-null  int64  \n",
      " 11  loudness          586672 non-null  float64\n",
      " 12  mode              586672 non-null  int64  \n",
      " 13  speechiness       586672 non-null  float64\n",
      " 14  acousticness      586672 non-null  float64\n",
      " 15  instrumentalness  586672 non-null  float64\n",
      " 16  liveness          586672 non-null  float64\n",
      " 17  valence           586672 non-null  float64\n",
      " 18  tempo             586672 non-null  float64\n",
      "dtypes: float64(10), int64(4), object(5)\n",
      "memory usage: 85.0+ MB\n"
     ]
    }
   ],
   "source": [
    "tracks.info()"
   ]
  },
  {
   "cell_type": "code",
   "execution_count": 6,
   "metadata": {
    "colab": {
     "base_uri": "https://localhost:8080/",
     "height": 680
    },
    "id": "Z7pnwTTh8ztz",
    "outputId": "f709ce98-5a97-47c2-ca3f-4cc91889bcfb"
   },
   "outputs": [
    {
     "data": {
      "text/plain": [
       "id                      0\n",
       "name                   71\n",
       "artists                71\n",
       "id_artists              0\n",
       "genres              49825\n",
       "release_year            0\n",
       "duration_s              0\n",
       "popularity              0\n",
       "danceability            0\n",
       "energy                  0\n",
       "key                     0\n",
       "loudness                0\n",
       "mode                    0\n",
       "speechiness             0\n",
       "acousticness            0\n",
       "instrumentalness        0\n",
       "liveness                0\n",
       "valence                 0\n",
       "tempo                   0\n",
       "dtype: int64"
      ]
     },
     "execution_count": 6,
     "metadata": {},
     "output_type": "execute_result"
    }
   ],
   "source": [
    "tracks.isnull().sum()"
   ]
  },
  {
   "cell_type": "code",
   "execution_count": 7,
   "metadata": {
    "colab": {
     "base_uri": "https://localhost:8080/",
     "height": 536
    },
    "id": "yb7l4iTa808U",
    "outputId": "1b6b57be-8617-4e76-e79d-2b8e4f74ecfb"
   },
   "outputs": [
    {
     "data": {
      "image/png": "[encoded data removed]",
      "text/plain": [
       "<Figure size 640x480 with 1 Axes>"
      ]
     },
     "metadata": {},
     "output_type": "display_data"
    }
   ],
   "source": [
    "tracks.dropna(inplace = True)\n",
    "tracks.isnull().sum().plot.bar()\n",
    "plt.show()"
   ]
  },
  {
   "cell_type": "code",
   "execution_count": 8,
   "metadata": {
    "id": "X8QaZJId82D7"
   },
   "outputs": [],
   "source": [
    "# tracks = tracks.drop(['id', 'id_artists'], axis = 1)"
   ]
  },
  {
   "cell_type": "code",
   "execution_count": 9,
   "metadata": {
    "id": "QwuqOLhx8622"
   },
   "outputs": [],
   "source": [
    "# model = TSNE(n_components = 2, random_state = 0)\n",
    "# tsne_data = model.fit_transform(tracks.head(500))\n",
    "# plt.figure(figsize = (7, 7))\n",
    "# plt.scatter(tsne_data[:,0], tsne_data[:,1])\n",
    "# plt.show()"
   ]
  },
  {
   "cell_type": "code",
   "execution_count": 10,
   "metadata": {
    "colab": {
     "base_uri": "https://localhost:8080/"
    },
    "id": "E0WSTSed8-nb",
    "outputId": "8ce52d18-286f-43f5-b116-fb4c750c76b5"
   },
   "outputs": [
    {
     "data": {
      "text/plain": [
       "(408902, (536847, 19))"
      ]
     },
     "execution_count": 10,
     "metadata": {},
     "output_type": "execute_result"
    }
   ],
   "source": [
    "tracks['name'].nunique(), tracks.shape"
   ]
  },
  {
   "cell_type": "code",
   "execution_count": 11,
   "metadata": {
    "id": "3aJ-JAbv8_2n"
   },
   "outputs": [],
   "source": [
    "tracks = tracks.sort_values(by=['popularity'], ascending=False)\n",
    "tracks.drop_duplicates(subset=['name'], keep='first', inplace=True)"
   ]
  },
  {
   "cell_type": "code",
   "execution_count": 12,
   "metadata": {
    "id": "YcHJEMd99A5c"
   },
   "outputs": [],
   "source": [
    "# plt.figure(figsize = (10, 5))\n",
    "# sb.countplot(tracks['release_year'])\n",
    "# plt.axis('off')\n",
    "# plt.show()"
   ]
  },
  {
   "cell_type": "code",
   "execution_count": 13,
   "metadata": {
    "colab": {
     "base_uri": "https://localhost:8080/"
    },
    "id": "DoQx0Md49CJ8",
    "outputId": "ddc40764-8efe-44cb-f029-a75b3cfc9e9c"
   },
   "outputs": [
    {
     "data": {
      "text/plain": [
       "10"
      ]
     },
     "execution_count": 13,
     "metadata": {},
     "output_type": "execute_result"
    }
   ],
   "source": [
    "floats = []\n",
    "for col in tracks.columns:\n",
    "  if tracks[col].dtype == 'float':\n",
    "    floats.append(col)\n",
    "\n",
    "len(floats)"
   ]
  },
  {
   "cell_type": "code",
   "execution_count": 14,
   "metadata": {
    "colab": {
     "base_uri": "https://localhost:8080/",
     "height": 248
    },
    "id": "NS84PMb89C-O",
    "outputId": "5fc8c9fe-96ef-4d3c-b89a-fa9726361430"
   },
   "outputs": [
    {
     "data": {
      "image/png": "[encoded data removed]",
      "text/plain": [
       "<Figure size 1500x500 with 11 Axes>"
      ]
     },
     "metadata": {},
     "output_type": "display_data"
    }
   ],
   "source": [
    "plt.subplots(figsize = (15, 5))\n",
    "for i, col in enumerate(floats):\n",
    "  plt.subplot(2, 5, i + 1)\n",
    "  sb.distplot(tracks[col])\n",
    "plt.tight_layout()\n",
    "plt.show()"
   ]
  },
  {
   "cell_type": "code",
   "execution_count": 15,
   "metadata": {
    "id": "ApY7LfuT9EUL"
   },
   "outputs": [],
   "source": [
    "%%capture\n",
    "song_vectorizer = CountVectorizer()\n",
    "song_vectorizer.fit(tracks['genres'])"
   ]
  },
  {
   "cell_type": "code",
   "execution_count": 16,
   "metadata": {
    "id": "ikP5b-LJ9GCD"
   },
   "outputs": [],
   "source": [
    "tracks = tracks.sort_values(by=['popularity'], ascending=False).head(10000)"
   ]
  },
  {
   "cell_type": "code",
   "execution_count": 17,
   "metadata": {
    "id": "zvAtOy-vahoR"
   },
   "outputs": [],
   "source": [
    "def get_average_vector(song_names, data):\n",
    "    text_vectors = []\n",
    "    num_vectors = []\n",
    "\n",
    "    # Collect vectors for all songs in the playlist\n",
    "    for song_name in song_names:\n",
    "        if song_name not in data['name'].values:\n",
    "            continue\n",
    "\n",
    "        # Transform the genre and numeric data for each song\n",
    "        text_vector = song_vectorizer.transform(data[data['name'] == song_name]['genres']).toarray()\n",
    "        num_vector = data[data['name'] == song_name].select_dtypes(include=np.number).to_numpy()\n",
    "\n",
    "        if text_vector.size > 0 and num_vector.size > 0:\n",
    "            text_vectors.append(text_vector[0])\n",
    "            num_vectors.append(num_vector[0])\n",
    "\n",
    "    # Compute the average vectors\n",
    "    if not text_vectors or not num_vectors:\n",
    "        print(\"No valid songs found for averaging.\")\n",
    "        return None, None\n",
    "\n",
    "    avg_text_vector = np.mean(text_vectors, axis=0)\n",
    "    avg_num_vector = np.mean(num_vectors, axis=0)\n",
    "\n",
    "    return avg_text_vector, avg_num_vector\n"
   ]
  },
  {
   "cell_type": "code",
   "execution_count": 18,
   "metadata": {
    "id": "BHeTzRq69ICo"
   },
   "outputs": [],
   "source": [
    "def get_similarities(song_list, data):\n",
    "    sim = [0] * len(data)\n",
    "    for song_name in song_list:\n",
    "        # Getting vector for the input song.\n",
    "        text_array1 = song_vectorizer.transform(data[data['name']==song_name]['genres']).toarray()\n",
    "        num_array1 = data[data['name']==song_name].select_dtypes(include=np.number).to_numpy()\n",
    "\n",
    "        # We will store similarity for each row of the dataset.\n",
    "        for idx, row in data.iterrows():\n",
    "            name = row['name']\n",
    "\n",
    "            # Getting vector for current song.\n",
    "            text_array2 = song_vectorizer.transform(data[data['name']==name]['genres']).toarray()\n",
    "            num_array2 = data[data['name']==name].select_dtypes(include=np.number).to_numpy()\n",
    "\n",
    "            # Calculating similarities for text as well as numeric features\n",
    "            text_sim = cosine_similarity(text_array1, text_array2)[0][0]\n",
    "            num_sim = cosine_similarity(num_array1, num_array2)[0][0]\n",
    "            sim[idx] += text_sim + num_sim\n",
    "    return sim\n"
   ]
  },
  {
   "cell_type": "code",
   "execution_count": 19,
   "metadata": {
    "id": "gfN5ACkq9KLR"
   },
   "outputs": [],
   "source": [
    "def recommend_songs(song_name, data=tracks):\n",
    "  # Base case\n",
    "  if tracks[tracks['name'] == song_name].shape[0] == 0:\n",
    "    print('This song is either not so popular or you\\\n",
    "    have entered invalid_name.\\n Some songs you may like:\\n')\n",
    "\n",
    "    for song in data.sample(n=5)['name'].values:\n",
    "      print(song)\n",
    "    return\n",
    "\n",
    "  data['similarity_factor'] = get_similarities(song_name, data)\n",
    "\n",
    "  data.sort_values(by=['similarity_factor', 'popularity'],\n",
    "                   ascending = [False, False],\n",
    "                   inplace=True)\n",
    "\n",
    "  # First song will be the input song itself as the similarity will be highest.\n",
    "  display(data[['name', 'artists']][2:7])"
   ]
  },
  {
   "cell_type": "code",
   "execution_count": 20,
   "metadata": {
    "id": "Vdx__3FdDoNp"
   },
   "outputs": [],
   "source": [
    "def recommend_songs_for_playlist(song_names, data):\n",
    "    avg_text_vector, avg_num_vector = get_average_vector(song_names, data)\n",
    "\n",
    "    if avg_text_vector is None or avg_num_vector is None:\n",
    "        print(\"Unable to generate recommendations due to missing data.\")\n",
    "        return\n",
    "\n",
    "    # Calculate similarity with the average vector\n",
    "    sim = []\n",
    "    for idx, row in data.iterrows():\n",
    "        name = row['name']\n",
    "        text_vector = song_vectorizer.transform(data[data['name'] == name]['genres']).toarray()\n",
    "        num_vector = data[data['name'] == name].select_dtypes(include=np.number).to_numpy()\n",
    "\n",
    "        if text_vector.size == 0 or num_vector.size == 0:\n",
    "            continue\n",
    "\n",
    "        # Calculate cosine similarity with the averaged vector\n",
    "        text_sim = cosine_similarity([avg_text_vector], text_vector)[0][0]\n",
    "        num_sim = cosine_similarity([avg_num_vector], num_vector)[0][0]\n",
    "        sim.append((name, text_sim + num_sim))\n",
    "\n",
    "    # Sort and display the top recommendations\n",
    "    sim.sort(key=lambda x: x[1], reverse=True)\n",
    "    print(\"\\nTop Recommendations for the Playlist:\")\n",
    "    result = []\n",
    "    for song, score in sim[1:6]:  # Skip the first result as it's often the playlist itself\n",
    "        artist = data[data['name'] == song]['artists'].values[0]\n",
    "        print(f\"{song} by {artist} - Similarity Score: {score:.2f}\")\n",
    "        song_id = data[data['name'] == song]['id'].values[0]\n",
    "        result.append([f\"{song} by {artist}\", song_id])\n",
    "    return result"
   ]
  },
  {
   "cell_type": "code",
   "execution_count": 21,
   "metadata": {
    "colab": {
     "base_uri": "https://localhost:8080/"
    },
    "id": "9dDLTKc5g-0o",
    "outputId": "87d51e4b-b52a-4619-b0fe-db527b929f0c"
   },
   "outputs": [
    {
     "name": "stdout",
     "output_type": "stream",
     "text": [
      "Ed Sheeran\n"
     ]
    }
   ],
   "source": [
    "artist = tracks[tracks['name'] == 'Shape of You']['artists'].values[0]\n",
    "print(artist)\n"
   ]
  },
  {
   "cell_type": "code",
   "execution_count": 22,
   "metadata": {
    "id": "3vRm2zmA9MMb"
   },
   "outputs": [],
   "source": [
    "# recommend_songs('Shape of You')"
   ]
  },
  {
   "cell_type": "code",
   "execution_count": 23,
   "metadata": {
    "id": "Tp3hEuNv9NNj"
   },
   "outputs": [],
   "source": [
    "# recommend_songs('Love Someone')"
   ]
  },
  {
   "cell_type": "code",
   "execution_count": 24,
   "metadata": {
    "id": "Mj7_qL3s9OLk"
   },
   "outputs": [],
   "source": [
    "# recommend_songs('Love me like you do')"
   ]
  },
  {
   "cell_type": "code",
   "execution_count": 25,
   "metadata": {
    "id": "80tIOJwMALSz"
   },
   "outputs": [],
   "source": [
    "# Function to extract song names from a Spotify playlist URL\n",
    "def get_song_names(playlist_url):\n",
    "    song_names = []\n",
    "    playlist_id = playlist_url.split(\"/\")[-1].split(\"?\")[0]\n",
    "    playlist_tracks = sp.playlist_tracks(playlist_id)\n",
    "\n",
    "    for track in playlist_tracks['items']:\n",
    "        if track['track']:  # Check if the track exists\n",
    "            song_names.append(track['track']['name'])\n",
    "        else:\n",
    "            song_names.append(\"Unknown Track\")  # Placeholder for missing tracks\n",
    "    return song_names\n"
   ]
  },
  {
   "cell_type": "code",
   "execution_count": 26,
   "metadata": {
    "id": "rrOGZbeQAdaO"
   },
   "outputs": [],
   "source": [
    "# Example usage\n",
    "playlist_url = 'https://open.spotify.com/playlist/6Eh4KE9fojcXtUrI58Gdh8?si=416c1841f2aa4876'\n",
    "song_names = get_song_names(playlist_url)\n"
   ]
  },
  {
   "cell_type": "code",
   "execution_count": 27,
   "metadata": {
    "colab": {
     "base_uri": "https://localhost:8080/"
    },
    "id": "I_k4Yc4LAfC3",
    "outputId": "8b6d82d1-01e3-4fad-e44c-de8a13d0f6fd"
   },
   "outputs": [
    {
     "name": "stdout",
     "output_type": "stream",
     "text": [
      "1. There's Nothing Holdin' Me Back\n",
      "2. Stitches\n",
      "3. Treat You Better\n",
      "4. Señorita\n",
      "5. If I Can't Have You\n",
      "6. Drag Me Down\n",
      "7. Mercy\n",
      "8. Youngblood\n",
      "9. Closer\n",
      "10. Attention\n",
      "11. New Rules\n",
      "12. Something Just Like This\n",
      "13. Shape of You\n",
      "14. What Makes You Beautiful\n",
      "15. Galway Girl\n",
      "16. Counting Stars\n",
      "17. Payphone\n",
      "18. Rockabye (feat. Sean Paul & Anne-Marie)\n",
      "19. In the Name of Love\n",
      "20. Let Me Love You\n",
      "21. Girls Like You (feat. Cardi B) - Cardi B Version\n",
      "22. How Long\n",
      "23. Hall of Fame (feat. will.i.am)\n",
      "24. Shut Up and Dance\n",
      "25. The Nights\n",
      "26. I Want It That Way\n",
      "27. One More Night\n",
      "28. Memories\n",
      "29. Steal My Girl\n",
      "30. Astronomy\n",
      "31. Die With A Smile\n",
      "32. Levitating\n",
      "33. Houdini\n",
      "34. Set Fire to the Rain\n",
      "35. We Don't Talk Anymore (feat. Selena Gomez)\n",
      "36. Thinking out Loud\n",
      "37. Lobster\n",
      "38. Don't Be A Fool\n",
      "39. Three Empty Words\n",
      "40. Patience\n",
      "41. Happier\n",
      "42. Never Not\n",
      "43. comethru\n",
      "44. At My Worst\n",
      "45. Strawberries & Cigarettes\n",
      "46. Stargazing\n",
      "47. Moves Like Jagger\n",
      "48. Moves Like Jagger - Studio Recording From \"The Voice\" Performance\n",
      "49. I Know What You Did Last Summer\n",
      "50. Something Big\n"
     ]
    }
   ],
   "source": [
    "# Display the extracted song names\n",
    "for idx, song in enumerate(song_names, 1):\n",
    "    print(f\"{idx}. {song}\")"
   ]
  },
  {
   "cell_type": "code",
   "execution_count": 28,
   "metadata": {
    "id": "DQY_Oho3CrRQ"
   },
   "outputs": [],
   "source": [
    "# for idx, song in enumerate(song_names, 1):\n",
    "#   print(f\"Recommendations based on\")"
   ]
  },
  {
   "cell_type": "code",
   "execution_count": 29,
   "metadata": {
    "colab": {
     "base_uri": "https://localhost:8080/"
    },
    "id": "04X68yExEA2t",
    "outputId": "0b0a9890-d753-4ad8-e956-594901fe8e0b"
   },
   "outputs": [],
   "source": [
    "# # Example usage\n",
    "# playlist_url = 'https://open.spotify.com/playlist/6Eh4KE9fojcXtUrI58Gdh8?si=416c1841f2aa4876'\n",
    "# song_names = get_song_names(playlist_url)\n",
    "# result = recommend_songs_for_playlist(song_names, data=tracks)\n",
    "# print(\"here is your result\")\n",
    "# print(result)"
   ]
  },
  {
   "cell_type": "code",
   "execution_count": 30,
   "metadata": {
    "colab": {
     "base_uri": "https://localhost:8080/"
    },
    "id": "z90dAIEpQFsc",
    "outputId": "d686140e-fcc4-4421-bd89-0b2d2d4f3919"
   },
   "outputs": [
    {
     "name": "stdout",
     "output_type": "stream",
     "text": [
      "https://open.spotify.com/track/1r299qCKBLgUS9XJ9m1kEx?si=6356a3c821804c60\n"
     ]
    }
   ],
   "source": [
    "print('https://open.spotify.com/track/1r299qCKBLgUS9XJ9m1kEx?si=6356a3c821804c60')"
   ]
  },
  {
   "cell_type": "code",
   "execution_count": 31,
   "metadata": {
    "colab": {
     "base_uri": "https://localhost:8080/",
     "height": 367
    },
    "id": "z0XYoZQ9hwyN",
    "outputId": "cb3cf1ab-3f62-49c5-a11f-2d48fec70e36"
   },
   "outputs": [
    {
     "name": "stdout",
     "output_type": "stream",
     "text": [
      "URL entered: https://open.spotify.com/playlist/0jlgoXPymruIhsPB3Ps3D8?si=5c7e76e7ac0c483e\n",
      "\n",
      "Top Recommendations for the Playlist:\n",
      "Lifestyle (feat. Adam Levine) by Jason Derulo, Adam Levine, Maroon 5 - Similarity Score: 1.94\n",
      "Toothbrush by DNCE - Similarity Score: 1.94\n",
      "Cake By The Ocean by DNCE - Similarity Score: 1.94\n",
      "Good Time by Owl City, Carly Rae Jepsen - Similarity Score: 1.93\n",
      "Moves Like Jagger - Studio Recording From The Voice Performance by Maroon 5, Christina Aguilera - Similarity Score: 1.93\n"
     ]
    }
   ],
   "source": [
    "import tkinter as tk\n",
    "\n",
    "# Function to handle recommendation button click\n",
    "def recommend_music():\n",
    "    url = url_entry.get()\n",
    "    print(f\"URL entered: {url}\")\n",
    "    song_names = get_song_names(url);\n",
    "    result = recommend_songs_for_playlist(song_names, data=tracks)\n",
    "\n",
    "    # Clear previous results\n",
    "    for widget in result_frame.winfo_children():\n",
    "        widget.destroy()\n",
    "\n",
    "    # Display new results as clickable buttons\n",
    "    for i, (song, song_id) in enumerate(result):\n",
    "        song_name = song.split(' by ')[0]\n",
    "        artist = song.split(' by ')[1]\n",
    "\n",
    "        # Create a clickable button for each recommended song\n",
    "        hyperlink = f\"https://open.spotify.com/track/{song_id}\"\n",
    "        song_button = tk.Button(result_frame, text=f\"{song_name} by {artist}\",\n",
    "                                fg=\"#232723\",  # Text color (light green)\n",
    "                                bg=\"#a8b2a8\",  # Button color (darker green)\n",
    "                                relief=\"raised\",\n",
    "                                cursor=\"hand2\",\n",
    "                                font=(\"Helvetica\", 12, \"bold\"),\n",
    "                                command=lambda url=hyperlink: open_link(url))\n",
    "        song_button.pack(fill=\"x\", pady=5, padx=10)\n",
    "\n",
    "# Function to open URL in the web browser\n",
    "def open_link(url):\n",
    "    import webbrowser\n",
    "    webbrowser.open(url)\n",
    "\n",
    "# Create the main window\n",
    "root = tk.Tk()\n",
    "root.title(\"Music Recommendation App\")\n",
    "\n",
    "# Set the window size (optional)\n",
    "root.geometry(\"800x500\")\n",
    "\n",
    "# Set background color\n",
    "root.configure(bg=\"#232723\")\n",
    "\n",
    "# Create a label for the title\n",
    "title_label = tk.Label(root, text=\"Music Recommendation App\", font=(\"Helvetica\", 16), fg=\"#e1ece3\", bg=\"#232723\")\n",
    "title_label.pack(pady=20)\n",
    "\n",
    "# Create a label and text field for URL input\n",
    "url_label = tk.Label(root, text=\"Enter URL:\", font=(\"Helvetica\", 12), fg=\"#e1ece3\", bg=\"#232723\")\n",
    "url_label.pack()\n",
    "\n",
    "url_entry = tk.Entry(root, width=40, font=(\"Helvetica\", 12), bd=2, relief=\"solid\", bg=\"#a8b2a8\")\n",
    "url_entry.pack(pady=5)\n",
    "\n",
    "# Create a button for recommendation\n",
    "recommend_button = tk.Button(root, text=\"Recommend\", font=(\"Helvetica\", 12, \"bold\"), bg=\"#62d089\", fg=\"#232723\",\n",
    "                             relief=\"flat\", command=recommend_music)\n",
    "recommend_button.pack(pady=15)\n",
    "\n",
    "# Frame to display the results\n",
    "result_frame = tk.Frame(root, bg=\"#232723\")\n",
    "result_frame.pack(pady=10)\n",
    "\n",
    "# Run the Tkinter event loop\n",
    "root.mainloop()\n"
   ]
  },
  {
   "cell_type": "code",
   "execution_count": 32,
   "metadata": {
    "id": "vF5s7MhTmnUf"
   },
   "outputs": [
    {
     "name": "stdout",
     "output_type": "stream",
     "text": [
      "Index(['id', 'name', 'artists', 'id_artists', 'genres', 'release_year',\n",
      "       'duration_s', 'popularity', 'danceability', 'energy', 'key', 'loudness',\n",
      "       'mode', 'speechiness', 'acousticness', 'instrumentalness', 'liveness',\n",
      "       'valence', 'tempo'],\n",
      "      dtype='object')\n"
     ]
    }
   ],
   "source": [
    "print(tracks.columns)\n"
   ]
  },
  {
   "cell_type": "code",
   "execution_count": 33,
   "metadata": {},
   "outputs": [
    {
     "data": {
      "text/plain": [
       "85130"
      ]
     },
     "execution_count": 33,
     "metadata": {},
     "output_type": "execute_result"
    }
   ],
   "source": [
    "tracks.index[tracks['name'] == 'One More Night'][0]"
   ]
  },
  {
   "cell_type": "code",
   "execution_count": 34,
   "metadata": {},
   "outputs": [
    {
     "data": {
      "text/html": [
       "<div>\n",
       "<style scoped>\n",
       "    .dataframe tbody tr th:only-of-type {\n",
       "        vertical-align: middle;\n",
       "    }\n",
       "\n",
       "    .dataframe tbody tr th {\n",
       "        vertical-align: top;\n",
       "    }\n",
       "\n",
       "    .dataframe thead th {\n",
       "        text-align: right;\n",
       "    }\n",
       "</style>\n",
       "<table border=\"1\" class=\"dataframe\">\n",
       "  <thead>\n",
       "    <tr style=\"text-align: right;\">\n",
       "      <th></th>\n",
       "      <th>id</th>\n",
       "      <th>name</th>\n",
       "      <th>artists</th>\n",
       "      <th>id_artists</th>\n",
       "      <th>genres</th>\n",
       "      <th>release_year</th>\n",
       "      <th>duration_s</th>\n",
       "      <th>popularity</th>\n",
       "      <th>danceability</th>\n",
       "      <th>energy</th>\n",
       "      <th>key</th>\n",
       "      <th>loudness</th>\n",
       "      <th>mode</th>\n",
       "      <th>speechiness</th>\n",
       "      <th>acousticness</th>\n",
       "      <th>instrumentalness</th>\n",
       "      <th>liveness</th>\n",
       "      <th>valence</th>\n",
       "      <th>tempo</th>\n",
       "    </tr>\n",
       "  </thead>\n",
       "  <tbody>\n",
       "    <tr>\n",
       "      <th>93802</th>\n",
       "      <td>4iJyoBOLtHqaGxP12qzhQI</td>\n",
       "      <td>Peaches (feat. Daniel Caesar &amp; Giveon)</td>\n",
       "      <td>Justin Bieber, Daniel Caesar, Giveon</td>\n",
       "      <td>['1uNFoZAHBGtllmzznpCI3s', '20wkVLutqVOYrc0kxF...</td>\n",
       "      <td>pop rb canadian contemporary rb pop rb canadia...</td>\n",
       "      <td>2021</td>\n",
       "      <td>198.082</td>\n",
       "      <td>100</td>\n",
       "      <td>0.677</td>\n",
       "      <td>0.696</td>\n",
       "      <td>0</td>\n",
       "      <td>53.819</td>\n",
       "      <td>1</td>\n",
       "      <td>0.1190</td>\n",
       "      <td>0.3210</td>\n",
       "      <td>0.000000</td>\n",
       "      <td>0.420</td>\n",
       "      <td>0.464</td>\n",
       "      <td>90.030</td>\n",
       "    </tr>\n",
       "    <tr>\n",
       "      <th>93803</th>\n",
       "      <td>7lPN2DXiMsVn7XUKtOW1CS</td>\n",
       "      <td>drivers license</td>\n",
       "      <td>Olivia Rodrigo</td>\n",
       "      <td>['1McMsnEElThX1knmY4oliG']</td>\n",
       "      <td>pop postteen pop</td>\n",
       "      <td>2021</td>\n",
       "      <td>242.014</td>\n",
       "      <td>99</td>\n",
       "      <td>0.585</td>\n",
       "      <td>0.436</td>\n",
       "      <td>10</td>\n",
       "      <td>51.239</td>\n",
       "      <td>1</td>\n",
       "      <td>0.0601</td>\n",
       "      <td>0.7210</td>\n",
       "      <td>0.000013</td>\n",
       "      <td>0.105</td>\n",
       "      <td>0.132</td>\n",
       "      <td>143.874</td>\n",
       "    </tr>\n",
       "    <tr>\n",
       "      <th>93804</th>\n",
       "      <td>3Ofmpyhv5UAQ70mENzB277</td>\n",
       "      <td>Astronaut In The Ocean</td>\n",
       "      <td>Masked Wolf</td>\n",
       "      <td>['1uU7g3DNSbsu0QjSEqZtEd']</td>\n",
       "      <td>australian hip hop</td>\n",
       "      <td>2021</td>\n",
       "      <td>132.780</td>\n",
       "      <td>98</td>\n",
       "      <td>0.778</td>\n",
       "      <td>0.695</td>\n",
       "      <td>4</td>\n",
       "      <td>53.135</td>\n",
       "      <td>0</td>\n",
       "      <td>0.0913</td>\n",
       "      <td>0.1750</td>\n",
       "      <td>0.000000</td>\n",
       "      <td>0.150</td>\n",
       "      <td>0.472</td>\n",
       "      <td>149.996</td>\n",
       "    </tr>\n",
       "    <tr>\n",
       "      <th>92811</th>\n",
       "      <td>6tDDoYIxWvMLTdKpjFkc1B</td>\n",
       "      <td>telepatía</td>\n",
       "      <td>Kali Uchis</td>\n",
       "      <td>['1U1el3k54VvEUzo3ybLPlM']</td>\n",
       "      <td>colombian pop pop</td>\n",
       "      <td>2020</td>\n",
       "      <td>160.191</td>\n",
       "      <td>97</td>\n",
       "      <td>0.653</td>\n",
       "      <td>0.524</td>\n",
       "      <td>11</td>\n",
       "      <td>50.984</td>\n",
       "      <td>0</td>\n",
       "      <td>0.0502</td>\n",
       "      <td>0.1120</td>\n",
       "      <td>0.000000</td>\n",
       "      <td>0.203</td>\n",
       "      <td>0.553</td>\n",
       "      <td>83.970</td>\n",
       "    </tr>\n",
       "    <tr>\n",
       "      <th>92810</th>\n",
       "      <td>5QO79kh1waicV47BqGRL3g</td>\n",
       "      <td>Save Your Tears</td>\n",
       "      <td>The Weeknd</td>\n",
       "      <td>['1Xyo4u8uXC1ZmMpatF05PJ']</td>\n",
       "      <td>canadian contemporary rb canadian pop pop</td>\n",
       "      <td>2020</td>\n",
       "      <td>215.627</td>\n",
       "      <td>97</td>\n",
       "      <td>0.680</td>\n",
       "      <td>0.826</td>\n",
       "      <td>0</td>\n",
       "      <td>54.513</td>\n",
       "      <td>1</td>\n",
       "      <td>0.0309</td>\n",
       "      <td>0.0212</td>\n",
       "      <td>0.000012</td>\n",
       "      <td>0.543</td>\n",
       "      <td>0.644</td>\n",
       "      <td>118.051</td>\n",
       "    </tr>\n",
       "  </tbody>\n",
       "</table>\n",
       "</div>"
      ],
      "text/plain": [
       "                           id                                    name  \\\n",
       "93802  4iJyoBOLtHqaGxP12qzhQI  Peaches (feat. Daniel Caesar & Giveon)   \n",
       "93803  7lPN2DXiMsVn7XUKtOW1CS                         drivers license   \n",
       "93804  3Ofmpyhv5UAQ70mENzB277                  Astronaut In The Ocean   \n",
       "92811  6tDDoYIxWvMLTdKpjFkc1B                               telepatía   \n",
       "92810  5QO79kh1waicV47BqGRL3g                         Save Your Tears   \n",
       "\n",
       "                                    artists  \\\n",
       "93802  Justin Bieber, Daniel Caesar, Giveon   \n",
       "93803                        Olivia Rodrigo   \n",
       "93804                           Masked Wolf   \n",
       "92811                            Kali Uchis   \n",
       "92810                            The Weeknd   \n",
       "\n",
       "                                              id_artists  \\\n",
       "93802  ['1uNFoZAHBGtllmzznpCI3s', '20wkVLutqVOYrc0kxF...   \n",
       "93803                         ['1McMsnEElThX1knmY4oliG']   \n",
       "93804                         ['1uU7g3DNSbsu0QjSEqZtEd']   \n",
       "92811                         ['1U1el3k54VvEUzo3ybLPlM']   \n",
       "92810                         ['1Xyo4u8uXC1ZmMpatF05PJ']   \n",
       "\n",
       "                                                  genres  release_year  \\\n",
       "93802  pop rb canadian contemporary rb pop rb canadia...          2021   \n",
       "93803                                   pop postteen pop          2021   \n",
       "93804                                 australian hip hop          2021   \n",
       "92811                                  colombian pop pop          2020   \n",
       "92810          canadian contemporary rb canadian pop pop          2020   \n",
       "\n",
       "       duration_s  popularity  danceability  energy  key  loudness  mode  \\\n",
       "93802     198.082         100         0.677   0.696    0    53.819     1   \n",
       "93803     242.014          99         0.585   0.436   10    51.239     1   \n",
       "93804     132.780          98         0.778   0.695    4    53.135     0   \n",
       "92811     160.191          97         0.653   0.524   11    50.984     0   \n",
       "92810     215.627          97         0.680   0.826    0    54.513     1   \n",
       "\n",
       "       speechiness  acousticness  instrumentalness  liveness  valence    tempo  \n",
       "93802       0.1190        0.3210          0.000000     0.420    0.464   90.030  \n",
       "93803       0.0601        0.7210          0.000013     0.105    0.132  143.874  \n",
       "93804       0.0913        0.1750          0.000000     0.150    0.472  149.996  \n",
       "92811       0.0502        0.1120          0.000000     0.203    0.553   83.970  \n",
       "92810       0.0309        0.0212          0.000012     0.543    0.644  118.051  "
      ]
     },
     "execution_count": 34,
     "metadata": {},
     "output_type": "execute_result"
    }
   ],
   "source": [
    "tracks.head()"
   ]
  },
  {
   "cell_type": "code",
   "execution_count": 35,
   "metadata": {},
   "outputs": [
    {
     "data": {
      "text/html": [
       "<div>\n",
       "<style scoped>\n",
       "    .dataframe tbody tr th:only-of-type {\n",
       "        vertical-align: middle;\n",
       "    }\n",
       "\n",
       "    .dataframe tbody tr th {\n",
       "        vertical-align: top;\n",
       "    }\n",
       "\n",
       "    .dataframe thead th {\n",
       "        text-align: right;\n",
       "    }\n",
       "</style>\n",
       "<table border=\"1\" class=\"dataframe\">\n",
       "  <thead>\n",
       "    <tr style=\"text-align: right;\">\n",
       "      <th></th>\n",
       "      <th>id</th>\n",
       "      <th>name</th>\n",
       "      <th>artists</th>\n",
       "      <th>id_artists</th>\n",
       "      <th>genres</th>\n",
       "      <th>release_year</th>\n",
       "      <th>duration_s</th>\n",
       "      <th>popularity</th>\n",
       "      <th>danceability</th>\n",
       "      <th>energy</th>\n",
       "      <th>key</th>\n",
       "      <th>loudness</th>\n",
       "      <th>mode</th>\n",
       "      <th>speechiness</th>\n",
       "      <th>acousticness</th>\n",
       "      <th>instrumentalness</th>\n",
       "      <th>liveness</th>\n",
       "      <th>valence</th>\n",
       "      <th>tempo</th>\n",
       "    </tr>\n",
       "  </thead>\n",
       "  <tbody>\n",
       "  </tbody>\n",
       "</table>\n",
       "</div>"
      ],
      "text/plain": [
       "Empty DataFrame\n",
       "Columns: [id, name, artists, id_artists, genres, release_year, duration_s, popularity, danceability, energy, key, loudness, mode, speechiness, acousticness, instrumentalness, liveness, valence, tempo]\n",
       "Index: []"
      ]
     },
     "execution_count": 35,
     "metadata": {},
     "output_type": "execute_result"
    }
   ],
   "source": [
    "tracks[tracks['id'] == '71j40GUuIgwpEGmoupat2O']"
   ]
  },
  {
   "cell_type": "code",
   "execution_count": 36,
   "metadata": {},
   "outputs": [],
   "source": [
    "tracks = tracks.sort_values(by=['release_year'], ascending=False)"
   ]
  },
  {
   "cell_type": "code",
   "execution_count": 37,
   "metadata": {},
   "outputs": [
    {
     "data": {
      "text/html": [
       "<div>\n",
       "<style scoped>\n",
       "    .dataframe tbody tr th:only-of-type {\n",
       "        vertical-align: middle;\n",
       "    }\n",
       "\n",
       "    .dataframe tbody tr th {\n",
       "        vertical-align: top;\n",
       "    }\n",
       "\n",
       "    .dataframe thead th {\n",
       "        text-align: right;\n",
       "    }\n",
       "</style>\n",
       "<table border=\"1\" class=\"dataframe\">\n",
       "  <thead>\n",
       "    <tr style=\"text-align: right;\">\n",
       "      <th></th>\n",
       "      <th>id</th>\n",
       "      <th>name</th>\n",
       "      <th>artists</th>\n",
       "      <th>id_artists</th>\n",
       "      <th>genres</th>\n",
       "      <th>release_year</th>\n",
       "      <th>duration_s</th>\n",
       "      <th>popularity</th>\n",
       "      <th>danceability</th>\n",
       "      <th>energy</th>\n",
       "      <th>key</th>\n",
       "      <th>loudness</th>\n",
       "      <th>mode</th>\n",
       "      <th>speechiness</th>\n",
       "      <th>acousticness</th>\n",
       "      <th>instrumentalness</th>\n",
       "      <th>liveness</th>\n",
       "      <th>valence</th>\n",
       "      <th>tempo</th>\n",
       "    </tr>\n",
       "  </thead>\n",
       "  <tbody>\n",
       "    <tr>\n",
       "      <th>93802</th>\n",
       "      <td>4iJyoBOLtHqaGxP12qzhQI</td>\n",
       "      <td>Peaches (feat. Daniel Caesar &amp; Giveon)</td>\n",
       "      <td>Justin Bieber, Daniel Caesar, Giveon</td>\n",
       "      <td>['1uNFoZAHBGtllmzznpCI3s', '20wkVLutqVOYrc0kxF...</td>\n",
       "      <td>pop rb canadian contemporary rb pop rb canadia...</td>\n",
       "      <td>2021</td>\n",
       "      <td>198.082</td>\n",
       "      <td>100</td>\n",
       "      <td>0.677</td>\n",
       "      <td>0.696</td>\n",
       "      <td>0</td>\n",
       "      <td>53.819</td>\n",
       "      <td>1</td>\n",
       "      <td>0.1190</td>\n",
       "      <td>0.321</td>\n",
       "      <td>0.00000</td>\n",
       "      <td>0.420</td>\n",
       "      <td>0.464</td>\n",
       "      <td>90.030</td>\n",
       "    </tr>\n",
       "    <tr>\n",
       "      <th>94246</th>\n",
       "      <td>6mm3K0yWp6uzfOMuipM9Zh</td>\n",
       "      <td>Tan Bonita</td>\n",
       "      <td>Piso 21</td>\n",
       "      <td>['4bw2Am3p9ji3mYsXNXtQcd']</td>\n",
       "      <td>colombian pop latin latin pop reggaeton reggae...</td>\n",
       "      <td>2021</td>\n",
       "      <td>211.998</td>\n",
       "      <td>77</td>\n",
       "      <td>0.820</td>\n",
       "      <td>0.804</td>\n",
       "      <td>9</td>\n",
       "      <td>52.774</td>\n",
       "      <td>1</td>\n",
       "      <td>0.0528</td>\n",
       "      <td>0.175</td>\n",
       "      <td>0.00215</td>\n",
       "      <td>0.064</td>\n",
       "      <td>0.844</td>\n",
       "      <td>110.982</td>\n",
       "    </tr>\n",
       "    <tr>\n",
       "      <th>94001</th>\n",
       "      <td>05WIYJYtnZHUmL1uuYmvY1</td>\n",
       "      <td>Move On - Bonus</td>\n",
       "      <td>Lil Tjay</td>\n",
       "      <td>['6jGMq4yGs7aQzuGsMgVgZR']</td>\n",
       "      <td>brooklyn drill melodic rap nyc rap</td>\n",
       "      <td>2021</td>\n",
       "      <td>177.528</td>\n",
       "      <td>69</td>\n",
       "      <td>0.310</td>\n",
       "      <td>0.722</td>\n",
       "      <td>7</td>\n",
       "      <td>54.652</td>\n",
       "      <td>1</td>\n",
       "      <td>0.0813</td>\n",
       "      <td>0.287</td>\n",
       "      <td>0.00000</td>\n",
       "      <td>0.345</td>\n",
       "      <td>0.349</td>\n",
       "      <td>86.693</td>\n",
       "    </tr>\n",
       "    <tr>\n",
       "      <th>400251</th>\n",
       "      <td>5kYheNyo7xHKPsUWAFzXr3</td>\n",
       "      <td>Un milione di cose da dirti</td>\n",
       "      <td>Ermal Meta</td>\n",
       "      <td>['4XWTdNlsP8jqo5BDn5hgmd']</td>\n",
       "      <td>italian adult pop</td>\n",
       "      <td>2021</td>\n",
       "      <td>211.973</td>\n",
       "      <td>69</td>\n",
       "      <td>0.588</td>\n",
       "      <td>0.453</td>\n",
       "      <td>2</td>\n",
       "      <td>53.269</td>\n",
       "      <td>1</td>\n",
       "      <td>0.0641</td>\n",
       "      <td>0.466</td>\n",
       "      <td>0.00000</td>\n",
       "      <td>0.108</td>\n",
       "      <td>0.208</td>\n",
       "      <td>139.794</td>\n",
       "    </tr>\n",
       "    <tr>\n",
       "      <th>406500</th>\n",
       "      <td>4Dq2FjRkOTHcssggMdYK8J</td>\n",
       "      <td>MY TREASURE</td>\n",
       "      <td>TREASURE</td>\n",
       "      <td>['3KonOYiLsU53m4yT7gNotP']</td>\n",
       "      <td>kpop</td>\n",
       "      <td>2021</td>\n",
       "      <td>195.982</td>\n",
       "      <td>69</td>\n",
       "      <td>0.730</td>\n",
       "      <td>0.785</td>\n",
       "      <td>6</td>\n",
       "      <td>55.436</td>\n",
       "      <td>1</td>\n",
       "      <td>0.0780</td>\n",
       "      <td>0.111</td>\n",
       "      <td>0.00000</td>\n",
       "      <td>0.141</td>\n",
       "      <td>0.526</td>\n",
       "      <td>107.931</td>\n",
       "    </tr>\n",
       "  </tbody>\n",
       "</table>\n",
       "</div>"
      ],
      "text/plain": [
       "                            id                                    name  \\\n",
       "93802   4iJyoBOLtHqaGxP12qzhQI  Peaches (feat. Daniel Caesar & Giveon)   \n",
       "94246   6mm3K0yWp6uzfOMuipM9Zh                              Tan Bonita   \n",
       "94001   05WIYJYtnZHUmL1uuYmvY1                         Move On - Bonus   \n",
       "400251  5kYheNyo7xHKPsUWAFzXr3             Un milione di cose da dirti   \n",
       "406500  4Dq2FjRkOTHcssggMdYK8J                             MY TREASURE   \n",
       "\n",
       "                                     artists  \\\n",
       "93802   Justin Bieber, Daniel Caesar, Giveon   \n",
       "94246                                Piso 21   \n",
       "94001                               Lil Tjay   \n",
       "400251                            Ermal Meta   \n",
       "406500                              TREASURE   \n",
       "\n",
       "                                               id_artists  \\\n",
       "93802   ['1uNFoZAHBGtllmzznpCI3s', '20wkVLutqVOYrc0kxF...   \n",
       "94246                          ['4bw2Am3p9ji3mYsXNXtQcd']   \n",
       "94001                          ['6jGMq4yGs7aQzuGsMgVgZR']   \n",
       "400251                         ['4XWTdNlsP8jqo5BDn5hgmd']   \n",
       "406500                         ['3KonOYiLsU53m4yT7gNotP']   \n",
       "\n",
       "                                                   genres  release_year  \\\n",
       "93802   pop rb canadian contemporary rb pop rb canadia...          2021   \n",
       "94246   colombian pop latin latin pop reggaeton reggae...          2021   \n",
       "94001                  brooklyn drill melodic rap nyc rap          2021   \n",
       "400251                                  italian adult pop          2021   \n",
       "406500                                               kpop          2021   \n",
       "\n",
       "        duration_s  popularity  danceability  energy  key  loudness  mode  \\\n",
       "93802      198.082         100         0.677   0.696    0    53.819     1   \n",
       "94246      211.998          77         0.820   0.804    9    52.774     1   \n",
       "94001      177.528          69         0.310   0.722    7    54.652     1   \n",
       "400251     211.973          69         0.588   0.453    2    53.269     1   \n",
       "406500     195.982          69         0.730   0.785    6    55.436     1   \n",
       "\n",
       "        speechiness  acousticness  instrumentalness  liveness  valence  \\\n",
       "93802        0.1190         0.321           0.00000     0.420    0.464   \n",
       "94246        0.0528         0.175           0.00215     0.064    0.844   \n",
       "94001        0.0813         0.287           0.00000     0.345    0.349   \n",
       "400251       0.0641         0.466           0.00000     0.108    0.208   \n",
       "406500       0.0780         0.111           0.00000     0.141    0.526   \n",
       "\n",
       "          tempo  \n",
       "93802    90.030  \n",
       "94246   110.982  \n",
       "94001    86.693  \n",
       "400251  139.794  \n",
       "406500  107.931  "
      ]
     },
     "execution_count": 37,
     "metadata": {},
     "output_type": "execute_result"
    }
   ],
   "source": [
    "tracks.head()"
   ]
  },
  {
   "cell_type": "code",
   "execution_count": null,
   "metadata": {},
   "outputs": [],
   "source": []
  },
  {
   "cell_type": "code",
   "execution_count": null,
   "metadata": {},
   "outputs": [],
   "source": []
  }
 ],
 "metadata": {
  "colab": {
   "provenance": []
  },
  "kernelspec": {
   "display_name": "Python 3 (ipykernel)",
   "language": "python",
   "name": "python3"
  },
  "language_info": {
   "codemirror_mode": {
    "name": "ipython",
    "version": 3
   },
   "file_extension": ".py",
   "mimetype": "text/x-python",
   "name": "python",
   "nbconvert_exporter": "python",
   "pygments_lexer": "ipython3",
   "version": "3.11.7"
  }
 },
 "nbformat": 4,
 "nbformat_minor": 4
}
